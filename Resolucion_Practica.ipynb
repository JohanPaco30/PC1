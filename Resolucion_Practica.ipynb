{
 "cells": [
  {
   "cell_type": "markdown",
   "metadata": {},
   "source": [
    "VARIABLES\n",
    "\n",
    "Ejercicios:\n",
    "1) Escribir un programa que solicite su nombre de usuario por consola y después de que el usuario lo\n",
    "introduzca muestre por pantalla la cadena “¡Hola <nombre>!”, donde <nombre> es el nombre que el\n",
    "usuario haya introducido."
   ]
  },
  {
   "cell_type": "markdown",
   "metadata": {},
   "source": [
    "2) En los Estados Unidos, se acostumbra dejar una propina a su mesero después de cenar en un\n",
    "restaurante, generalmente una cantidad igual al 15% o más del costo de su comida.\n",
    "Escriba un programa que pregunte al usuario cuánto fue su consumo en el restaurante y que\n",
    "porcentaje de propina desea dejar al mesero. Su programa debe devolver la cantidad de dinero a\n",
    "dejar como propina."
   ]
  },
  {
   "cell_type": "markdown",
   "metadata": {},
   "source": [
    "3) Una juguetería tiene mucho éxito en dos de sus productos: payasos y muñecas. Suele hacer venta\n",
    "por correo y la empresa de logística les cobra por peso de cada paquete así que deben calcular el\n",
    "peso de los payasos y muñecas que saldrán en cada paquete a demanda. Cada payaso pesa 112 g y\n",
    "cada muñeca 75 g. Escribir un programa que lea el número de payasos y muñecas vendidos en el\n",
    "último pedido y calcule el peso total del paquete que será enviado."
   ]
  },
  {
   "cell_type": "markdown",
   "metadata": {},
   "source": [
    "4) Escribir un programa que lea un entero positivo, N, introducido por el usuario y después muestre en\n",
    "pantalla la suma de todos los enteros desde 1 hasta N. La suma de los N primeros enteros positivos\n",
    "puede ser calculada de la siguiente forma:"
   ]
  },
  {
   "cell_type": "markdown",
   "metadata": {},
   "source": [
    "CONDICIONALES\n",
    "\n",
    "Ejercicios:\n",
    "\n",
    "5) Escribir un programa que solicite al usuario que ingrese cuántos shows musicales ha visto en el\n",
    "último año y almacene ese número en una variable. A continuación, mostrar en pantalla un valor de\n",
    "verdad (True o False - tipo de datos booleanos) que indique si el usuario ha visto más de 3 shows."
   ]
  },
  {
   "cell_type": "markdown",
   "metadata": {},
   "source": [
    "6) Escribir un programa para una empresa que tiene salas de juegos para todas las edades y quiere\n",
    "calcular de forma automática el precio que debe cobrar a sus clientes por entrar. El programa debe\n",
    "preguntar al usuario la edad del cliente y mostrar el precio de la entrada. Si el cliente es menor de 4\n",
    "años puede entrar gratis, si tiene entre 4 y 18 años debe pagar $5 y si es mayor de 18 años, S10."
   ]
  },
  {
   "cell_type": "markdown",
   "metadata": {},
   "source": [
    "7) Realiza un programa que lea dos números por teclado y permite elegir entre 3 opciones en un menú:\n",
    "- Mostrar una suma de los dos números\n",
    "- Mostrar una resta de los dos números (el primero menos el segundo)\n",
    "- Mostrar una multiplicación de los dos números\n",
    "- En caso de introducir una opción inválida, el programa informará de que no es correcta."
   ]
  },
  {
   "cell_type": "markdown",
   "metadata": {},
   "source": [
    "8) Supongamos que estás en un país donde se acostumbra desayunar entre las 7:00 y las 8:00, almorzar\n",
    "entre las 12:00 y las 13:00 y cenar entre las 18:00 y las 19:00.\n",
    "Implemente un programa que solicite al usuario una hora y le indique si es la hora del desayuno, la\n",
    "hora del almuerzo o la hora de la cena. Si no es hora de comer, no envíes nada.\n",
    "Suponga que la entrada del usuario se formatea en formato de 24 horas como #:## o ##:##. Y\n",
    "suponga que el rango de tiempo de cada comida es inclusivo. Por ejemplo, ya sean las 7:00, las 7:01,\n",
    "las 7:59 o las 8:00, o en cualquier momento intermedio, es hora de desayunar."
   ]
  },
  {
   "cell_type": "markdown",
   "metadata": {},
   "source": [
    "COLECCIONES DE DATOS\n",
    "\n",
    "Ejercicios:\n",
    "\n",
    "9) Escriba un programa que, dada una lista, devuelve una nueva lista cuyo contenido sea igual a la\n",
    "original pero invertida. Así, dada la lista ['Di', 'buen', 'día', 'a', 'papa'], deberá devolver ['papa', 'a',\n",
    "'día', 'buen', 'Di']."
   ]
  },
  {
   "cell_type": "markdown",
   "metadata": {},
   "source": [
    "10) Escriba un programa para imprimir una lista específica después de eliminar los elementos que se\n",
    "encuentran en la posición 0, 4 y 5.\n",
    "lista de muestra: ['Rojo', 'Verde', 'Blanco', 'Negro', 'Rosa', 'Amarillo']\n",
    "Resultado esperado: ['Verde', 'Blanco', 'Negro']"
   ]
  },
  {
   "cell_type": "markdown",
   "metadata": {},
   "source": [
    "11) Escriba un programa Python que se encargue de eliminar los elementos duplicados de la siguiente\n",
    "lista. Su programa debe retornar otra lista sin los duplicados.\n",
    "Lista original: [1, 1, 2, 3, 4, 4, 5, 1]\n",
    "Lista procesada: [1, 2, 3, 4,, 5]"
   ]
  },
  {
   "cell_type": "markdown",
   "metadata": {},
   "source": [
    "12) La mayoría de los archivos tienen extensiones de archivo, el cual es un sufijo que comienza con un\n",
    "punto (.) al final de su nombre. Por ejemplo, los nombres de archivo para GIF terminan en .gif y los\n",
    "nombres de archivo para JPEG terminan en .jpg o .jpeg. Mientras que en los sistemas operativos\n",
    "como Windows, el tipo de archivo le sirve al computador abrir el archivo en el formato apropiado, en\n",
    "la web esto es distinto. Los navegadores web, por el contrario, se basan en tipos de medios,\n",
    "anteriormente conocidos como tipos MIME, para determinar cómo mostrar los archivos que viven en\n",
    "la web.\n",
    "Implemente un programa que solicite al usuario el nombre de un archivo y luego genere el tipo de\n",
    "archivo MIME correspondiente. Si el nombre del archivo termina en cualquiera de estos sufijos (sin\n",
    "importar el uso de mayúsculas y minúsculas) :\n",
    "- .gif\n",
    "- .jpg\n",
    "- .jpeg\n",
    "- .png\n",
    "- .pdf\n",
    "- .txt\n",
    "- .zip\n",
    "Si el nombre del archivo termina con algún otro sufijo que no se encuentra en la lista o no tiene\n",
    "ningún sufijo, en su lugar su programa deberá devolver application/octet-stream."
   ]
  }
 ],
 "metadata": {
  "language_info": {
   "name": "python"
  }
 },
 "nbformat": 4,
 "nbformat_minor": 2
}

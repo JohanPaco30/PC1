{
 "cells": [
  {
   "cell_type": "markdown",
   "metadata": {},
   "source": [
    "VARIABLES\n",
    "\n",
    "Ejercicios:\n",
    "1) Escribir un programa que solicite su nombre de usuario por consola y después de que el usuario lo\n",
    "introduzca muestre por pantalla la cadena “¡Hola <nombre>!”, donde <nombre> es el nombre que el\n",
    "usuario haya introducido."
   ]
  },
  {
   "cell_type": "code",
   "execution_count": null,
   "metadata": {},
   "outputs": [],
   "source": [
    "username = input(\"Introduzca su nombre de usuario: \")\n",
    "print(\"¡Hola \" + str(username) + \"!\")"
   ]
  },
  {
   "cell_type": "markdown",
   "metadata": {},
   "source": [
    "2) En los Estados Unidos, se acostumbra dejar una propina a su mesero después de cenar en un\n",
    "restaurante, generalmente una cantidad igual al 15% o más del costo de su comida.\n",
    "Escriba un programa que pregunte al usuario cuánto fue su consumo en el restaurante y que\n",
    "porcentaje de propina desea dejar al mesero. Su programa debe devolver la cantidad de dinero a\n",
    "dejar como propina."
   ]
  },
  {
   "cell_type": "code",
   "execution_count": 9,
   "metadata": {},
   "outputs": [
    {
     "name": "stdout",
     "output_type": "stream",
     "text": [
      "La cantidad de propina a dejar al mesero de acuerdo a su consumo es: 10.0\n"
     ]
    }
   ],
   "source": [
    "cuenta = float(input(\"¿Cuánto gastó en el restaurante?: \"))\n",
    "porcentaje = int(input(\"¿Algún porcentaje de propina para el mesero?: \"))\n",
    "propina = cuenta * (porcentaje/100)\n",
    "\n",
    "print(\"La cantidad de propina a dejar al mesero de acuerdo a su consumo es: \" + str(propina))"
   ]
  },
  {
   "cell_type": "markdown",
   "metadata": {},
   "source": [
    "3) Una juguetería tiene mucho éxito en dos de sus productos: payasos y muñecas. Suele hacer venta\n",
    "por correo y la empresa de logística les cobra por peso de cada paquete así que deben calcular el\n",
    "peso de los payasos y muñecas que saldrán en cada paquete a demanda. Cada payaso pesa 112 g y\n",
    "cada muñeca 75 g. Escribir un programa que lea el número de payasos y muñecas vendidos en el\n",
    "último pedido y calcule el peso total del paquete que será enviado."
   ]
  },
  {
   "cell_type": "code",
   "execution_count": 12,
   "metadata": {},
   "outputs": [
    {
     "name": "stdout",
     "output_type": "stream",
     "text": [
      "El peso total del paquete enviado será: 41150 g\n"
     ]
    }
   ],
   "source": [
    "numero_payasos = int(input(\"Cantidad de payasos vendidos: \"))\n",
    "numero_munecas = int(input(\"Cantidad de muñecas vendidos: \"))\n",
    "peso_paquete = (numero_payasos*112) + (numero_munecas*75)\n",
    "\n",
    "print(\"El peso total del paquete enviado será: \" + str(peso_paquete) + \" g\")"
   ]
  },
  {
   "cell_type": "markdown",
   "metadata": {},
   "source": [
    "4) Escribir un programa que lea un entero positivo, N, introducido por el usuario y después muestre en\n",
    "pantalla la suma de todos los enteros desde 1 hasta N. La suma de los N primeros enteros positivos\n",
    "puede ser calculada de la siguiente forma:"
   ]
  },
  {
   "cell_type": "code",
   "execution_count": 13,
   "metadata": {},
   "outputs": [
    {
     "name": "stdout",
     "output_type": "stream",
     "text": [
      "La suma de los N primeros enteros es: 55.0\n"
     ]
    }
   ],
   "source": [
    "numero = int(input(\"Introduzca un numero entero: \"))\n",
    "suma_n = (numero*(numero + 1))/2\n",
    "\n",
    "print(\"La suma de los N primeros enteros es: \" + str(suma_n))"
   ]
  },
  {
   "cell_type": "markdown",
   "metadata": {},
   "source": [
    "CONDICIONALES\n",
    "\n",
    "Ejercicios:\n",
    "\n",
    "5) Escribir un programa que solicite al usuario que ingrese cuántos shows musicales ha visto en el\n",
    "último año y almacene ese número en una variable. A continuación, mostrar en pantalla un valor de\n",
    "verdad (True o False - tipo de datos booleanos) que indique si el usuario ha visto más de 3 shows."
   ]
  },
  {
   "cell_type": "code",
   "execution_count": 19,
   "metadata": {},
   "outputs": [
    {
     "name": "stdout",
     "output_type": "stream",
     "text": [
      "True\n"
     ]
    }
   ],
   "source": [
    "shows_m = int(input(\"¿Cuántos shows musicales ha visto este año?: \"))\n",
    "\n",
    "if shows_m > 3:\n",
    "    print(\"True\")\n",
    "else:\n",
    "    print(\"False\")\n"
   ]
  },
  {
   "cell_type": "markdown",
   "metadata": {},
   "source": [
    "6) Escribir un programa para una empresa que tiene salas de juegos para todas las edades y quiere\n",
    "calcular de forma automática el precio que debe cobrar a sus clientes por entrar. El programa debe\n",
    "preguntar al usuario la edad del cliente y mostrar el precio de la entrada. Si el cliente es menor de 4\n",
    "años puede entrar gratis, si tiene entre 4 y 18 años debe pagar $5 y si es mayor de 18 años, S10."
   ]
  },
  {
   "cell_type": "code",
   "execution_count": 24,
   "metadata": {},
   "outputs": [
    {
     "name": "stdout",
     "output_type": "stream",
     "text": [
      "MONTO A PAGAR DE: $10\n"
     ]
    }
   ],
   "source": [
    "edad_cliente = int(input(\"¿Cuantos años tiene?: \"))\n",
    "\n",
    "if edad_cliente < 4:\n",
    "    print(\"¡INGRESO GRATIS!\")\n",
    "elif edad_cliente >= 4 and edad_cliente <= 18:\n",
    "    print(\"MONTO A PAGAR DE: $5\")\n",
    "else:\n",
    "    print(\"MONTO A PAGAR DE: $10\")\n"
   ]
  },
  {
   "cell_type": "markdown",
   "metadata": {},
   "source": [
    "7) Realiza un programa que lea dos números por teclado y permite elegir entre 3 opciones en un menú:\n",
    "- Mostrar una suma de los dos números\n",
    "- Mostrar una resta de los dos números (el primero menos el segundo)\n",
    "- Mostrar una multiplicación de los dos números\n",
    "- En caso de introducir una opción inválida, el programa informará de que no es correcta."
   ]
  },
  {
   "cell_type": "code",
   "execution_count": 28,
   "metadata": {},
   "outputs": [
    {
     "name": "stdout",
     "output_type": "stream",
     "text": [
      "¿Qué desea hacer?:\n",
      "1) Mostrar una suma de los dos números.\n",
      "2) Mostrar una resta de los dos números (el primero menos el segundo).\n",
      "3) Mostrar una multiplicación de los dos números.\n",
      "El producto de los dos numeros es: 25.0\n"
     ]
    }
   ],
   "source": [
    "num_1 = float(input(\"Ingrese el primer número: \"))\n",
    "num_2 = float(input(\"Ingrese el segundo número: \"))\n",
    "\n",
    "suma = num_1 + num_2\n",
    "resta = num_1 - num_2\n",
    "multi = num_1 * num_2\n",
    "\n",
    "print(\"¿Qué desea hacer?:\\n1) Mostrar una suma de los dos números.\\n2) Mostrar una resta de los dos números (el primero menos el segundo).\\n3) Mostrar una multiplicación de los dos números.\")\n",
    "opcion = int(input(\"Elige una opcion: \"))\n",
    "\n",
    "if opcion == 1:\n",
    "    print(\"La suma de los dos numeros es: \" + str(suma ))\n",
    "elif opcion == 2:\n",
    "    print(\"La resta de los dos numeros es: \" + str(resta))\n",
    "elif opcion ==3:\n",
    "    print(\"El producto de los dos numeros es: \" + str(multi))"
   ]
  },
  {
   "cell_type": "markdown",
   "metadata": {},
   "source": [
    "8) Supongamos que estás en un país donde se acostumbra desayunar entre las 7:00 y las 8:00, almorzar\n",
    "entre las 12:00 y las 13:00 y cenar entre las 18:00 y las 19:00.\n",
    "Implemente un programa que solicite al usuario una hora y le indique si es la hora del desayuno, la\n",
    "hora del almuerzo o la hora de la cena. Si no es hora de comer, no envíes nada.\n",
    "Suponga que la entrada del usuario se formatea en formato de 24 horas como #:## o ##:##. Y\n",
    "suponga que el rango de tiempo de cada comida es inclusivo. Por ejemplo, ya sean las 7:00, las 7:01,\n",
    "las 7:59 o las 8:00, o en cualquier momento intermedio, es hora de desayunar."
   ]
  },
  {
   "cell_type": "code",
   "execution_count": null,
   "metadata": {},
   "outputs": [],
   "source": [
    "horario= (input(\"Introduzca la hora actual: \"))\n",
    "hora, minutos = horario.split(\":\")\n",
    "hora = int(hora)\n",
    "\n",
    "if hora >= 7 and hora <= 8:\n",
    "    print(\"¡Es la hora del desayuno!\")\n",
    "elif hora >= 12 and hora <= 13:\n",
    "    print(\"¡Es la hora del almuerzo!\")\n",
    "elif hora >= 18 and hora <= 19:\n",
    "        print(\"¡Es la hora de la cena!\")\n"
   ]
  },
  {
   "cell_type": "markdown",
   "metadata": {},
   "source": [
    "COLECCIONES DE DATOS\n",
    "\n",
    "Ejercicios:\n",
    "\n",
    "9) Escriba un programa que, dada una lista, devuelve una nueva lista cuyo contenido sea igual a la\n",
    "original pero invertida. Así, dada la lista ['Di', 'buen', 'día', 'a', 'papa'], deberá devolver ['papa', 'a',\n",
    "'día', 'buen', 'Di']."
   ]
  },
  {
   "cell_type": "code",
   "execution_count": 44,
   "metadata": {},
   "outputs": [
    {
     "name": "stdout",
     "output_type": "stream",
     "text": [
      "Sabias que la frase 'AMAN A PANAMA' suena igual si la escribes al reves:\n",
      "\n",
      "['A', 'M', 'A', 'N', 'A', 'P', 'A', 'N', 'A', 'M', 'A']\n",
      "\n",
      "Curiosamente suena igual.\n"
     ]
    }
   ],
   "source": [
    "lista_1= ['A','M','A','N','A','P','A','N','A','M','A']\n",
    "lista_1.reverse()\n",
    "\n",
    "print(\"Sabias que la frase 'AMAN A PANAMA' suena igual si la escribes al reves:\\n\")\n",
    "print(lista_1)\n",
    "print(\"\\nCuriosamente suena igual.\")"
   ]
  },
  {
   "cell_type": "markdown",
   "metadata": {},
   "source": [
    "10) Escriba un programa para imprimir una lista específica después de eliminar los elementos que se\n",
    "encuentran en la posición 0, 4 y 5.\n",
    "lista de muestra: ['Rojo', 'Verde', 'Blanco', 'Negro', 'Rosa', 'Amarillo']\n",
    "Resultado esperado: ['Verde', 'Blanco', 'Negro']"
   ]
  },
  {
   "cell_type": "code",
   "execution_count": 56,
   "metadata": {},
   "outputs": [
    {
     "name": "stdout",
     "output_type": "stream",
     "text": [
      "['Verde', 'Blanco', 'Negro']\n"
     ]
    }
   ],
   "source": [
    "lista_2 = ['Rojo','Verde','Blanco','Negro','Rosa','Amarillo']\n",
    "lista_2.remove('Rojo')\n",
    "lista_2.remove('Rosa')\n",
    "lista_2.remove('Amarillo')\n",
    "print(lista_2)"
   ]
  },
  {
   "cell_type": "markdown",
   "metadata": {},
   "source": [
    "11) Escriba un programa Python que se encargue de eliminar los elementos duplicados de la siguiente\n",
    "lista. Su programa debe retornar otra lista sin los duplicados.\n",
    "Lista original: [1, 1, 2, 3, 4, 4, 5, 1]\n",
    "Lista procesada: [1, 2, 3, 4,, 5]"
   ]
  },
  {
   "cell_type": "code",
   "execution_count": 55,
   "metadata": {},
   "outputs": [
    {
     "name": "stdout",
     "output_type": "stream",
     "text": [
      "[1, 2, 3, 4, 5]\n"
     ]
    }
   ],
   "source": [
    "lista_3 = [1,1,2,3,4,4,5,1]\n",
    "lista_3.remove(1)\n",
    "lista_3.remove(1)\n",
    "lista_3.remove(4)\n",
    "lista_3.sort()\n",
    "\n",
    "print(lista_3)"
   ]
  },
  {
   "cell_type": "markdown",
   "metadata": {},
   "source": [
    "12) La mayoría de los archivos tienen extensiones de archivo, el cual es un sufijo que comienza con un\n",
    "punto (.) al final de su nombre. Por ejemplo, los nombres de archivo para GIF terminan en .gif y los\n",
    "nombres de archivo para JPEG terminan en .jpg o .jpeg. Mientras que en los sistemas operativos\n",
    "como Windows, el tipo de archivo le sirve al computador abrir el archivo en el formato apropiado, en\n",
    "la web esto es distinto. Los navegadores web, por el contrario, se basan en tipos de medios,\n",
    "anteriormente conocidos como tipos MIME, para determinar cómo mostrar los archivos que viven en\n",
    "la web.\n",
    "Implemente un programa que solicite al usuario el nombre de un archivo y luego genere el tipo de\n",
    "archivo MIME correspondiente. Si el nombre del archivo termina en cualquiera de estos sufijos (sin\n",
    "importar el uso de mayúsculas y minúsculas) :\n",
    "- .gif\n",
    "- .jpg\n",
    "- .jpeg\n",
    "- .png\n",
    "- .pdf\n",
    "- .txt\n",
    "- .zip\n",
    "Si el nombre del archivo termina con algún otro sufijo que no se encuentra en la lista o no tiene\n",
    "ningún sufijo, en su lugar su programa deberá devolver application/octet-stream."
   ]
  },
  {
   "cell_type": "code",
   "execution_count": 66,
   "metadata": {},
   "outputs": [
    {
     "name": "stdout",
     "output_type": "stream",
     "text": [
      "El tipo MIME del archivo hola.txt es: text/plain\n"
     ]
    }
   ],
   "source": [
    "archivo = input(\"Introduzca el nombre del archivo con su extension correspondiente (¡No usar Mayúsculas!) \")\n",
    "\n",
    "if archivo[-3:] == \"gif\":\n",
    "    print(\"El tipo MIME del archivo \" + archivo + \" es: image/gif\")\n",
    "elif archivo[-3:] == \"jpg\":\n",
    "     print(\"El tipo MIME del archivo \" + archivo + \" es: image/jpeg\")\n",
    "elif archivo[-4:] == \"jpeg\":\n",
    "      print(\"El tipo MIME del archivo \" + archivo + \" es: image/jpeg\")\n",
    "elif archivo[-3:] == \"png\":\n",
    "      print(\"El tipo MIME del archivo \" + archivo + \" es: image/png\")\n",
    "elif archivo[-3:] == \"pdf\":\n",
    "      print(\"El tipo MIME del archivo \" + archivo + \" es: application/pdf\")\n",
    "elif archivo[-3:] == \"txt\":\n",
    "    print(\"El tipo MIME del archivo \" + archivo + \" es: text/plain\")\n",
    "elif archivo[-3:] == \"zip\":\n",
    "      print(\"El tipo MIME del archivo \" + archivo + \" es: application/zip\")\n",
    "else:\n",
    "     print(\"El tipo MIME del archivo \" + archivo + \" es: application/octet-stream\")"
   ]
  }
 ],
 "metadata": {
  "kernelspec": {
   "display_name": "Python 3",
   "language": "python",
   "name": "python3"
  },
  "language_info": {
   "codemirror_mode": {
    "name": "ipython",
    "version": 3
   },
   "file_extension": ".py",
   "mimetype": "text/x-python",
   "name": "python",
   "nbconvert_exporter": "python",
   "pygments_lexer": "ipython3",
   "version": "3.10.13"
  }
 },
 "nbformat": 4,
 "nbformat_minor": 2
}
